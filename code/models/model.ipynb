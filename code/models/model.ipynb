{
 "cells": [
  {
   "cell_type": "code",
   "execution_count": 1,
   "metadata": {},
   "outputs": [
    {
     "name": "stderr",
     "output_type": "stream",
     "text": [
      "c:\\Users\\Administrator\\AppData\\Local\\Programs\\Python\\Python310\\lib\\site-packages\\transformers\\utils\\generic.py:441: FutureWarning: `torch.utils._pytree._register_pytree_node` is deprecated. Please use `torch.utils._pytree.register_pytree_node` instead.\n",
      "  _torch_pytree._register_pytree_node(\n"
     ]
    }
   ],
   "source": [
    "import numpy as np\n",
    "import pandas as pd\n",
    "import matplotlib.pyplot as plt\n",
    "import seaborn as sns\n",
    "\n",
    "import sklearn\n",
    "from sklearn.model_selection import train_test_split\n",
    "import torch\n",
    "from torch import nn\n",
    "from torch.nn import Linear, Sequential, ReLU\n",
    "from torch.utils.data import DataLoader, Dataset\n",
    "from torch.optim import Adam, AdamW\n",
    "import torchinfo\n",
    "from torchinfo import summary\n",
    "\n",
    "import os\n",
    "import tqdm\n",
    "from tqdm.auto import tqdm, trange\n",
    "\n",
    "import torchvision\n",
    "from torchvision.datasets import ImageFolder\n",
    "from torchvision.transforms import v2\n",
    "import torchmetrics\n",
    "from torchmetrics import Accuracy\n",
    "\n",
    "import PIL\n",
    "from PIL import Image\n",
    "import shutil\n",
    "\n",
    "import torch.nn as nn\n",
    "import torch.optim as optim"
   ]
  },
  {
   "cell_type": "code",
   "execution_count": 2,
   "metadata": {},
   "outputs": [],
   "source": [
    "train_ = pd.read_csv(\"C:/Users/Administrator/Documents/PMLDL2024/Assignment 1/PMLD-Assignment-1/code/datasets/Training_set.csv\")"
   ]
  },
  {
   "cell_type": "code",
   "execution_count": 3,
   "metadata": {},
   "outputs": [
    {
     "data": {
      "text/html": [
       "<div>\n",
       "<style scoped>\n",
       "    .dataframe tbody tr th:only-of-type {\n",
       "        vertical-align: middle;\n",
       "    }\n",
       "\n",
       "    .dataframe tbody tr th {\n",
       "        vertical-align: top;\n",
       "    }\n",
       "\n",
       "    .dataframe thead th {\n",
       "        text-align: right;\n",
       "    }\n",
       "</style>\n",
       "<table border=\"1\" class=\"dataframe\">\n",
       "  <thead>\n",
       "    <tr style=\"text-align: right;\">\n",
       "      <th></th>\n",
       "      <th>filename</th>\n",
       "      <th>label</th>\n",
       "    </tr>\n",
       "  </thead>\n",
       "  <tbody>\n",
       "    <tr>\n",
       "      <th>0</th>\n",
       "      <td>Image_1.jpg</td>\n",
       "      <td>SOUTHERN DOGFACE</td>\n",
       "    </tr>\n",
       "    <tr>\n",
       "      <th>1</th>\n",
       "      <td>Image_2.jpg</td>\n",
       "      <td>ADONIS</td>\n",
       "    </tr>\n",
       "    <tr>\n",
       "      <th>2</th>\n",
       "      <td>Image_3.jpg</td>\n",
       "      <td>BROWN SIPROETA</td>\n",
       "    </tr>\n",
       "    <tr>\n",
       "      <th>3</th>\n",
       "      <td>Image_4.jpg</td>\n",
       "      <td>MONARCH</td>\n",
       "    </tr>\n",
       "    <tr>\n",
       "      <th>4</th>\n",
       "      <td>Image_5.jpg</td>\n",
       "      <td>GREEN CELLED CATTLEHEART</td>\n",
       "    </tr>\n",
       "  </tbody>\n",
       "</table>\n",
       "</div>"
      ],
      "text/plain": [
       "      filename                     label\n",
       "0  Image_1.jpg          SOUTHERN DOGFACE\n",
       "1  Image_2.jpg                    ADONIS\n",
       "2  Image_3.jpg            BROWN SIPROETA\n",
       "3  Image_4.jpg                   MONARCH\n",
       "4  Image_5.jpg  GREEN CELLED CATTLEHEART"
      ]
     },
     "execution_count": 3,
     "metadata": {},
     "output_type": "execute_result"
    }
   ],
   "source": [
    "train_.head()"
   ]
  },
  {
   "cell_type": "code",
   "execution_count": 4,
   "metadata": {},
   "outputs": [
    {
     "data": {
      "text/plain": [
       "(6499, 2)"
      ]
     },
     "execution_count": 4,
     "metadata": {},
     "output_type": "execute_result"
    }
   ],
   "source": [
    "def to_lower(col):\n",
    "    return col.lower()\n",
    "\n",
    "train_[\"label\"] = train_[\"label\"].apply(to_lower)\n",
    "classes_ = [i for i in train_[\"label\"].unique()]\n",
    "train_.shape"
   ]
  },
  {
   "cell_type": "code",
   "execution_count": 5,
   "metadata": {},
   "outputs": [
    {
     "data": {
      "application/vnd.jupyter.widget-view+json": {
       "model_id": "87fb76f062654ce7837b2a358a905400",
       "version_major": 2,
       "version_minor": 0
      },
      "text/plain": [
       "  0%|          | 0/75 [00:00<?, ?it/s]"
      ]
     },
     "metadata": {},
     "output_type": "display_data"
    }
   ],
   "source": [
    "for i in tqdm(classes_):\n",
    "    os.makedirs(f\"C:/Users/Administrator/Documents/PMLDL2024/Assignment 1/PMLD-Assignment-1/code/models/train/{i}\")\n",
    "    os.makedirs(f\"C:/Users/Administrator/Documents/PMLDL2024/Assignment 1/PMLD-Assignment-1/code/models/val/{i}\")"
   ]
  },
  {
   "cell_type": "code",
   "execution_count": 6,
   "metadata": {},
   "outputs": [
    {
     "data": {
      "text/plain": [
       "((5524, 2), (975, 2))"
      ]
     },
     "execution_count": 6,
     "metadata": {},
     "output_type": "execute_result"
    }
   ],
   "source": [
    "train_split, val_split = train_test_split(train_, test_size = 0.15, stratify = train_[\"label\"])\n",
    "train_split.shape, val_split.shape"
   ]
  },
  {
   "cell_type": "code",
   "execution_count": 7,
   "metadata": {},
   "outputs": [
    {
     "data": {
      "application/vnd.jupyter.widget-view+json": {
       "model_id": "2a3606f16ac347b08ddc0a4225e9f435",
       "version_major": 2,
       "version_minor": 0
      },
      "text/plain": [
       "  0%|          | 0/75 [00:00<?, ?it/s]"
      ]
     },
     "metadata": {},
     "output_type": "display_data"
    },
    {
     "data": {
      "application/vnd.jupyter.widget-view+json": {
       "model_id": "b818e18b8e7043928712c537fd16ff4d",
       "version_major": 2,
       "version_minor": 0
      },
      "text/plain": [
       "  0%|          | 0/75 [00:00<?, ?it/s]"
      ]
     },
     "metadata": {},
     "output_type": "display_data"
    }
   ],
   "source": [
    "def copy_files(df_:pd.DataFrame, img_path_:str, dest_str):\n",
    "    for i in tqdm(classes_):\n",
    "        dest_ = dest_str+\"/\"+i\n",
    "        df_class = df_[df_[\"label\"] == i]\n",
    "        os.chdir(img_path_)\n",
    "        for j in df_class[\"filename\"].values:\n",
    "            shutil.copy(j, dest_)\n",
    "\n",
    "copy_files(val_split, \"C:/Users/Administrator/Documents/PMLDL2024/Assignment 1/PMLD-Assignment-1/code/datasets/train\", \"C:/Users/Administrator/Documents/PMLDL2024/Assignment 1/PMLD-Assignment-1/code/models/val\")\n",
    "copy_files(train_split, \"C:/Users/Administrator/Documents/PMLDL2024/Assignment 1/PMLD-Assignment-1/code/datasets/train\", \"C:/Users/Administrator/Documents/PMLDL2024/Assignment 1/PMLD-Assignment-1/code/models/train\")"
   ]
  },
  {
   "cell_type": "code",
   "execution_count": 8,
   "metadata": {},
   "outputs": [
    {
     "name": "stdout",
     "output_type": "stream",
     "text": [
      "adonis => 13\n",
      "african giant swallowtail => 11\n",
      "american snoot => 11\n",
      "an 88 => 13\n",
      "appollo => 14\n",
      "atala => 15\n",
      "banded orange heliconian => 15\n",
      "banded peacock => 12\n",
      "beckers white => 12\n",
      "black hairstreak => 13\n",
      "blue morpho => 11\n",
      "blue spotted crow => 13\n",
      "brown siproeta => 15\n",
      "cabbage white => 14\n",
      "cairns birdwing => 12\n",
      "checquered skipper => 14\n",
      "chestnut => 13\n",
      "cleopatra => 14\n",
      "clodius parnassian => 13\n",
      "clouded sulphur => 14\n",
      "common banded awl => 13\n",
      "common wood-nymph => 14\n",
      "copper tail => 14\n",
      "crecent => 15\n",
      "crimson patch => 11\n",
      "danaid eggfly => 14\n",
      "eastern coma => 14\n",
      "eastern dapple white => 14\n",
      "eastern pine elfin => 14\n",
      "elbowed pierrot => 12\n",
      "gold banded => 11\n",
      "great eggfly => 12\n",
      "great jay => 14\n",
      "green celled cattleheart => 13\n",
      "grey hairstreak => 13\n",
      "indra swallow => 12\n",
      "iphiclus sister => 14\n",
      "julia => 12\n",
      "large marble => 12\n",
      "malachite => 11\n",
      "mangrove skipper => 13\n",
      "mestra => 13\n",
      "metalmark => 11\n",
      "milberts tortoiseshell => 14\n",
      "monarch => 14\n",
      "mourning cloak => 20\n",
      "orange oakleaf => 13\n",
      "orange tip => 14\n",
      "orchard swallow => 11\n",
      "painted lady => 12\n",
      "paper kite => 13\n",
      "peacock => 13\n",
      "pine white => 13\n",
      "pipevine swallow => 13\n",
      "popinjay => 13\n",
      "purple hairstreak => 12\n",
      "purplish copper => 14\n",
      "question mark => 12\n",
      "red admiral => 12\n",
      "red cracker => 14\n",
      "red postman => 13\n",
      "red spotted purple => 13\n",
      "scarce swallow => 15\n",
      "silver spot skipper => 12\n",
      "sleepy orange => 16\n",
      "sootywing => 14\n",
      "southern dogface => 13\n",
      "straited queen => 13\n",
      "tropical leafwing => 12\n",
      "two barred flasher => 11\n",
      "ulyses => 13\n",
      "viceroy => 12\n",
      "wood satyr => 11\n",
      "yellow swallow tail => 11\n",
      "zebra long wing => 11\n"
     ]
    }
   ],
   "source": [
    "for i in os.listdir(\"C:/Users/Administrator/Documents/PMLDL2024/Assignment 1/PMLD-Assignment-1/code/models/val\"):\n",
    "    print(f\"{i} => {len(os.listdir(f'C:/Users/Administrator/Documents/PMLDL2024/Assignment 1/PMLD-Assignment-1/code/models/val/{i}'))}\")"
   ]
  },
  {
   "cell_type": "code",
   "execution_count": 9,
   "metadata": {},
   "outputs": [],
   "source": [
    "transform_train = v2.Compose([\n",
    "    v2.Resize((128,128)),\n",
    "    v2.RandomAffine(degrees = (-50,+50)),\n",
    "    v2.RandomRotation(15),\n",
    "    v2.RandomHorizontalFlip(0.3),\n",
    "    v2.ToImage(),\n",
    "    v2.ToDtype(torch.float32, scale = True),\n",
    "    v2.Normalize(mean=[0.485, 0.456, 0.406],\n",
    "                 std=[0.229, 0.224, 0.225]),\n",
    "])\n",
    "transform_val = v2.Compose([\n",
    "    v2.Resize((128,128)),\n",
    "    v2.ToImage(\"RGB\"),\n",
    "    v2.ToDtype(torch.float32, scale = True),\n",
    "    v2.Normalize(mean=[0.485, 0.456, 0.406],\n",
    "                 std=[0.229, 0.224, 0.225]),\n",
    "])"
   ]
  },
  {
   "cell_type": "code",
   "execution_count": 10,
   "metadata": {},
   "outputs": [],
   "source": [
    "train_ = ImageFolder(\"C:/Users/Administrator/Documents/PMLDL2024/Assignment 1/PMLD-Assignment-1/code/models/train\",\n",
    "                     transform = transform_train)\n",
    "val_ = ImageFolder(\"C:/Users/Administrator/Documents/PMLDL2024/Assignment 1/PMLD-Assignment-1/code/models/val\",\n",
    "                     transform = transform_val)"
   ]
  },
  {
   "cell_type": "code",
   "execution_count": 11,
   "metadata": {},
   "outputs": [],
   "source": [
    "BATCH_SIZE = 32\n",
    "train_dataloader = DataLoader(dataset = train_,\n",
    "                              batch_size = BATCH_SIZE,\n",
    "                              shuffle = True,\n",
    "                              num_workers = os.cpu_count(),\n",
    "                              persistent_workers = True)\n",
    "\n",
    "val_dataloader = DataLoader(dataset = val_,\n",
    "                            batch_size = BATCH_SIZE,\n",
    "                            shuffle = False,\n",
    "                            num_workers = os.cpu_count(),\n",
    "                            persistent_workers = True)"
   ]
  },
  {
   "cell_type": "code",
   "execution_count": 12,
   "metadata": {},
   "outputs": [],
   "source": [
    "device = \"cuda\" "
   ]
  },
  {
   "cell_type": "code",
   "execution_count": 13,
   "metadata": {},
   "outputs": [],
   "source": [
    "import torch\n",
    "import torch.nn as nn\n",
    "import torch.optim as optim\n",
    "\n",
    "class ButterCLF(nn.Module):\n",
    "    def __init__(self, num_classes):\n",
    "        super(ButterCLF, self).__init__()\n",
    "        \n",
    "        self.block1 = nn.Sequential(\n",
    "            nn.Conv2d(3, 64, kernel_size=3, stride=1, padding=1),\n",
    "            nn.BatchNorm2d(64),\n",
    "            nn.ReLU(),\n",
    "            nn.MaxPool2d(kernel_size=2, stride=2)\n",
    "        )\n",
    "        \n",
    "        self.block2 = nn.Sequential(\n",
    "            nn.Conv2d(64, 128, kernel_size=3, stride=1, padding=1),\n",
    "            nn.BatchNorm2d(128),\n",
    "            nn.ReLU(),\n",
    "            nn.MaxPool2d(kernel_size=2, stride=2)\n",
    "        )\n",
    "        \n",
    "        self.block3 = nn.Sequential(\n",
    "            nn.Conv2d(128, 256, kernel_size=3, stride=1, padding=1),\n",
    "            nn.BatchNorm2d(256),\n",
    "            nn.ReLU(),\n",
    "            nn.Conv2d(256, 256, kernel_size=3, stride=1, padding=1),\n",
    "            nn.BatchNorm2d(256),\n",
    "            nn.ReLU(),\n",
    "            nn.MaxPool2d(kernel_size=2, stride=2)\n",
    "        )\n",
    "        \n",
    "        self.block4 = nn.Sequential(\n",
    "            nn.Conv2d(256, 512, kernel_size=3, stride=1, padding=1),\n",
    "            nn.BatchNorm2d(512),\n",
    "            nn.ReLU(),\n",
    "            nn.MaxPool2d(kernel_size=2, stride=2)\n",
    "        )\n",
    "        \n",
    "        self.global_avg_pool = nn.AdaptiveAvgPool2d((1, 1))\n",
    "        \n",
    "        self.fc = nn.Sequential(\n",
    "            nn.Linear(512, 512),\n",
    "            nn.ReLU(),\n",
    "            nn.Dropout(0.5),\n",
    "            nn.Linear(512, num_classes)\n",
    "        )\n",
    "    \n",
    "    def forward(self, x):\n",
    "        x = self.block1(x)\n",
    "        x = self.block2(x)\n",
    "        x = self.block3(x)\n",
    "        x = self.block4(x)\n",
    "        x = self.global_avg_pool(x)\n",
    "        x = x.view(x.size(0), -1)\n",
    "        x = self.fc(x)\n",
    "        return x\n"
   ]
  },
  {
   "cell_type": "code",
   "execution_count": 14,
   "metadata": {},
   "outputs": [
    {
     "name": "stdout",
     "output_type": "stream",
     "text": [
      "Epoch [1/100], Loss: 3.763724435960626, Val Accuracy: 12.512820512820513\n",
      "Epoch [2/100], Loss: 3.0892029098003584, Val Accuracy: 21.743589743589745\n",
      "Epoch [3/100], Loss: 2.6807738921545834, Val Accuracy: 27.487179487179485\n",
      "Epoch [4/100], Loss: 2.340122698359407, Val Accuracy: 34.15384615384615\n",
      "Epoch [5/100], Loss: 2.124245918555067, Val Accuracy: 36.205128205128204\n",
      "Epoch [6/100], Loss: 1.9206433365110718, Val Accuracy: 46.666666666666664\n",
      "Epoch [7/100], Loss: 1.7159948989835088, Val Accuracy: 49.02564102564103\n",
      "Epoch [8/100], Loss: 1.5376157863980773, Val Accuracy: 48.41025641025641\n",
      "Epoch [9/100], Loss: 1.3980506172758995, Val Accuracy: 53.64102564102564\n",
      "Epoch [10/100], Loss: 1.3032093375404445, Val Accuracy: 55.58974358974359\n",
      "Epoch [11/100], Loss: 1.1665624921032458, Val Accuracy: 56.717948717948715\n",
      "Epoch [12/100], Loss: 1.061567420904347, Val Accuracy: 58.76923076923077\n",
      "Epoch [13/100], Loss: 0.9933938566659917, Val Accuracy: 55.282051282051285\n",
      "Epoch [14/100], Loss: 0.9020066283686312, Val Accuracy: 58.46153846153846\n",
      "Epoch [15/100], Loss: 0.8822721475466139, Val Accuracy: 65.02564102564102\n",
      "Epoch [16/100], Loss: 0.806385721429924, Val Accuracy: 61.43589743589744\n",
      "Epoch [17/100], Loss: 0.7311156948522336, Val Accuracy: 67.38461538461539\n",
      "Epoch [18/100], Loss: 0.6812468427798651, Val Accuracy: 64.2051282051282\n",
      "Epoch [19/100], Loss: 0.6428589378133674, Val Accuracy: 65.53846153846153\n",
      "Epoch [20/100], Loss: 0.5900884926146854, Val Accuracy: 66.87179487179488\n",
      "Epoch [21/100], Loss: 0.5444709792130256, Val Accuracy: 71.17948717948718\n",
      "Epoch [22/100], Loss: 0.5201697680302438, Val Accuracy: 68.71794871794872\n",
      "Epoch [23/100], Loss: 0.46834887577102363, Val Accuracy: 71.48717948717949\n",
      "Epoch [24/100], Loss: 0.46174237476607966, Val Accuracy: 71.8974358974359\n",
      "Epoch [25/100], Loss: 0.4408954212689675, Val Accuracy: 72.51282051282051\n",
      "Epoch [26/100], Loss: 0.41453691981086843, Val Accuracy: 70.46153846153847\n",
      "Epoch [27/100], Loss: 0.36750044031983853, Val Accuracy: 69.94871794871794\n",
      "Epoch [28/100], Loss: 0.34558460172373434, Val Accuracy: 71.6923076923077\n",
      "Epoch [29/100], Loss: 0.35687830955909855, Val Accuracy: 72.61538461538461\n",
      "Epoch [30/100], Loss: 0.29857725538098057, Val Accuracy: 69.43589743589743\n",
      "Epoch [31/100], Loss: 0.2991201090545668, Val Accuracy: 73.43589743589743\n",
      "Epoch [32/100], Loss: 0.2851602613947467, Val Accuracy: 72.82051282051282\n",
      "Epoch [33/100], Loss: 0.2590268315112143, Val Accuracy: 74.46153846153847\n",
      "Epoch [34/100], Loss: 0.26439611844158584, Val Accuracy: 72.71794871794872\n",
      "Epoch [35/100], Loss: 0.2655590296739099, Val Accuracy: 75.17948717948718\n",
      "Epoch [36/100], Loss: 0.20672876370607773, Val Accuracy: 74.05128205128206\n",
      "Epoch [37/100], Loss: 0.22154717256094333, Val Accuracy: 72.41025641025641\n",
      "Epoch [38/100], Loss: 0.20004595669169475, Val Accuracy: 74.66666666666667\n",
      "Epoch [39/100], Loss: 0.24222323459416972, Val Accuracy: 72.82051282051282\n",
      "Epoch [40/100], Loss: 0.22085244642473714, Val Accuracy: 76.3076923076923\n",
      "Epoch [41/100], Loss: 0.1902412366057407, Val Accuracy: 75.6923076923077\n",
      "Epoch [42/100], Loss: 0.18007355487523224, Val Accuracy: 74.66666666666667\n",
      "Epoch [43/100], Loss: 0.16019450791040166, Val Accuracy: 74.35897435897436\n",
      "Epoch [44/100], Loss: 0.2031212856433209, Val Accuracy: 76.0\n",
      "Epoch [45/100], Loss: 0.14817849637111488, Val Accuracy: 75.58974358974359\n",
      "Epoch [46/100], Loss: 0.16968662567931964, Val Accuracy: 75.8974358974359\n",
      "Epoch [47/100], Loss: 0.14023819360128373, Val Accuracy: 75.6923076923077\n",
      "Epoch [48/100], Loss: 0.13203731695502308, Val Accuracy: 75.07692307692308\n",
      "Epoch [49/100], Loss: 0.1229241105237965, Val Accuracy: 74.97435897435898\n",
      "Epoch [50/100], Loss: 0.17292612943949037, Val Accuracy: 75.17948717948718\n",
      "Epoch [51/100], Loss: 0.16127840397244245, Val Accuracy: 75.6923076923077\n",
      "Epoch [52/100], Loss: 0.14612900082431088, Val Accuracy: 73.12820512820512\n",
      "Epoch [53/100], Loss: 0.15636620898811804, Val Accuracy: 78.56410256410257\n",
      "Epoch [54/100], Loss: 0.13980388612287237, Val Accuracy: 75.8974358974359\n",
      "Epoch [55/100], Loss: 0.12757708113963548, Val Accuracy: 79.07692307692308\n",
      "Epoch [56/100], Loss: 0.0822060988076042, Val Accuracy: 75.38461538461539\n",
      "Epoch [57/100], Loss: 0.12159487745197048, Val Accuracy: 76.71794871794872\n",
      "Epoch [58/100], Loss: 0.10541790726223174, Val Accuracy: 76.51282051282051\n",
      "Epoch [59/100], Loss: 0.13817044897973968, Val Accuracy: 72.61538461538461\n",
      "Epoch [60/100], Loss: 0.16540752239242693, Val Accuracy: 78.56410256410257\n",
      "Epoch [61/100], Loss: 0.0960511946323936, Val Accuracy: 79.58974358974359\n",
      "Epoch [62/100], Loss: 0.09481201712257428, Val Accuracy: 77.53846153846153\n",
      "Epoch [63/100], Loss: 0.11009213930289288, Val Accuracy: 77.23076923076923\n",
      "Epoch [64/100], Loss: 0.0716406670859961, Val Accuracy: 76.41025641025641\n",
      "Epoch [65/100], Loss: 0.130366666406673, Val Accuracy: 77.02564102564102\n",
      "Epoch [66/100], Loss: 0.06436855679262171, Val Accuracy: 79.58974358974359\n",
      "Epoch [67/100], Loss: 0.09592396043701303, Val Accuracy: 77.53846153846153\n",
      "Epoch [68/100], Loss: 0.09130879017158353, Val Accuracy: 77.53846153846153\n",
      "Epoch [69/100], Loss: 0.09843261400708724, Val Accuracy: 76.71794871794872\n",
      "Epoch [70/100], Loss: 0.1143445381322725, Val Accuracy: 75.28205128205128\n",
      "Epoch [71/100], Loss: 0.14534988828175674, Val Accuracy: 78.35897435897436\n",
      "Epoch [72/100], Loss: 0.11138805288638425, Val Accuracy: 74.56410256410257\n",
      "Epoch [73/100], Loss: 0.05334458937612766, Val Accuracy: 80.51282051282051\n",
      "Epoch [74/100], Loss: 0.05584538938791216, Val Accuracy: 77.74358974358974\n",
      "Epoch [75/100], Loss: 0.12097105462268275, Val Accuracy: 76.51282051282051\n",
      "Epoch [76/100], Loss: 0.09289244750670744, Val Accuracy: 77.43589743589743\n",
      "Epoch [77/100], Loss: 0.07964384630813688, Val Accuracy: 77.74358974358974\n",
      "Epoch [78/100], Loss: 0.09350900699362977, Val Accuracy: 78.66666666666667\n",
      "Epoch [79/100], Loss: 0.051616336763069315, Val Accuracy: 78.05128205128206\n",
      "Epoch [80/100], Loss: 0.12217139982553792, Val Accuracy: 76.51282051282051\n",
      "Epoch [81/100], Loss: 0.11231678273701082, Val Accuracy: 75.8974358974359\n",
      "Epoch [82/100], Loss: 0.10260886921698087, Val Accuracy: 78.56410256410257\n",
      "Epoch [83/100], Loss: 0.04448058190109542, Val Accuracy: 79.07692307692308\n",
      "Epoch [84/100], Loss: 0.04443317623755146, Val Accuracy: 79.58974358974359\n",
      "Epoch [85/100], Loss: 0.053737677866593, Val Accuracy: 80.51282051282051\n",
      "Epoch [86/100], Loss: 0.06569259904597205, Val Accuracy: 74.56410256410257\n",
      "Epoch [87/100], Loss: 0.1470448150006096, Val Accuracy: 77.53846153846153\n",
      "Epoch [88/100], Loss: 0.08363152519164531, Val Accuracy: 79.58974358974359\n",
      "Epoch [89/100], Loss: 0.04496847166714455, Val Accuracy: 78.87179487179488\n",
      "Epoch [90/100], Loss: 0.037377409017550614, Val Accuracy: 80.92307692307692\n",
      "Epoch [91/100], Loss: 0.05619150825733766, Val Accuracy: 78.97435897435898\n",
      "Epoch [92/100], Loss: 0.09992969938758438, Val Accuracy: 79.6923076923077\n",
      "Epoch [93/100], Loss: 0.08795301401126333, Val Accuracy: 78.97435897435898\n",
      "Epoch [94/100], Loss: 0.07691601268486846, Val Accuracy: 79.8974358974359\n",
      "Epoch [95/100], Loss: 0.05851271471265714, Val Accuracy: 79.07692307692308\n",
      "Epoch [96/100], Loss: 0.05547444935571106, Val Accuracy: 77.23076923076923\n",
      "Epoch [97/100], Loss: 0.05154705035759807, Val Accuracy: 76.92307692307692\n",
      "Epoch [98/100], Loss: 0.12319160314751897, Val Accuracy: 79.28205128205128\n",
      "Epoch [99/100], Loss: 0.03183009216647374, Val Accuracy: 78.87179487179488\n",
      "Epoch [100/100], Loss: 0.043294499439491506, Val Accuracy: 79.28205128205128\n"
     ]
    }
   ],
   "source": [
    "num_classes = 75\n",
    "model = ButterCLF(num_classes)\n",
    "model.to(device)\n",
    "\n",
    "criterion = nn.CrossEntropyLoss()\n",
    "optimizer = optim.Adam(model.parameters(), lr=0.001)\n",
    "\n",
    "def train_model(model, train_loader, val_loader, criterion, optimizer, num_epochs=10, model_save_path=\"C:/Users/Administrator/Documents/PMLDL2024/Assignment 1/PMLD-Assignment-1/code/models/best.pt\"):\n",
    "    best_val_acc = 0.0\n",
    "\n",
    "    model.train()\n",
    "    for epoch in range(num_epochs):\n",
    "        running_loss = 0.0\n",
    "        for images, labels in train_loader:\n",
    "            images, labels = images.to(device), labels.to(device)\n",
    "            optimizer.zero_grad()\n",
    "            outputs = model(images)\n",
    "            loss = criterion(outputs, labels)\n",
    "            loss.backward()\n",
    "            optimizer.step()\n",
    "            running_loss += loss.item()\n",
    "        \n",
    "        val_acc = validate_model(model, val_loader)\n",
    "\n",
    "        if val_acc > best_val_acc:\n",
    "            best_val_acc = val_acc\n",
    "            torch.save(model.state_dict(), model_save_path)  \n",
    "\n",
    "        print(f'Epoch [{epoch+1}/{num_epochs}], Loss: {running_loss/len(train_loader)}, Val Accuracy: {val_acc}')\n",
    "\n",
    "\n",
    "def validate_model(model, val_loader):\n",
    "    model.eval()\n",
    "    correct = 0\n",
    "    total = 0\n",
    "    with torch.no_grad():\n",
    "        for images, labels in val_loader:\n",
    "            images, labels = images.to(device), labels.to(device)\n",
    "            outputs = model(images)\n",
    "            _, predicted = torch.max(outputs, 1)\n",
    "            total += labels.size(0)\n",
    "            correct += (predicted == labels).sum().item()\n",
    "    return 100 * correct / total\n",
    "\n",
    "train_model(model, train_dataloader, val_dataloader, criterion, optimizer, num_epochs=100)"
   ]
  }
 ],
 "metadata": {
  "kernelspec": {
   "display_name": "Python 3",
   "language": "python",
   "name": "python3"
  },
  "language_info": {
   "codemirror_mode": {
    "name": "ipython",
    "version": 3
   },
   "file_extension": ".py",
   "mimetype": "text/x-python",
   "name": "python",
   "nbconvert_exporter": "python",
   "pygments_lexer": "ipython3",
   "version": "3.10.11"
  }
 },
 "nbformat": 4,
 "nbformat_minor": 2
}
